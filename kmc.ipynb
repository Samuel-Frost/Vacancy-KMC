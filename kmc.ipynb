{
 "cells": [
  {
   "cell_type": "markdown",
   "metadata": {},
   "source": [
    "We have the chance to move into *two* sites up and *two* sites down, each site has a rate $r_i = \\nu \\exp(-E_i/kBT)$, but the two sites are equivalent, so simply double $\\nu$ so $\\nu \\rightarrow 2\\nu$ and then just consider moving up or down into *one* site.\n",
    "\n",
    "Total rate is then $R = r_{up} + r_{down}$, this is *not* normalised to be anything.\n",
    "\n",
    "We thus have the probability of any event occuring, $P_{up} = r_{up} / R$, this is inherintly normalised such that $P_{up} + P_{down} = 1$\n",
    "\n",
    "Can use $R$ to select from a Poisson-like probability distribution (why?) to determine when the next event will occur $p(t) = R \\exp(-Rt)$, i.e., this shows the probability of it being a time $t$ that is chosen to advance time forward by.\n",
    "\n",
    "$t = -\\ln(u) \\frac{1}{R}$ where u is a uniformly distributed number between 0 and 1, advance time forward that amount.\n",
    "\n",
    "Pick another random number $u$ and use that to determine which event occured using the usual method.\n",
    "\n",
    "### TODO:\n",
    "\n",
    "The quality of kMC is ultimately determined by the quality of the input data, redo your MD runs because they're probably shite!\n",
    "\n",
    "Make a short script to run the kMC at various temps for a certain amount of time, then plot them all together, can show different heating reigmes.\n",
    "\n",
    "Maybe write up the functions in C and then do simple pthread for speed up.\n",
    "\n",
    "NOTE: Timeout has to be >= 1e9 when at T >= 1400K as the steps are so tiny that it will simply run out if timeout is small (1e6)"
   ]
  },
  {
   "cell_type": "code",
   "execution_count": 11,
   "metadata": {},
   "outputs": [],
   "source": [
    "import matplotlib.pyplot as plt\n",
    "import numpy as np\n",
    "from random import random, uniform\n",
    "#### CONSTANTS ####\n",
    "from ase.units import kB\n",
    "nu = 2 * 40e12 # can move in to two different sites when moving up or down, rate is doubled!\n",
    "T = 1400\n",
    "surface_distance = 18\n",
    "offset = 0\n",
    "bulk_energy = 2.55\n",
    "up = 'up'\n",
    "down = 'down'"
   ]
  },
  {
   "cell_type": "code",
   "execution_count": 5,
   "metadata": {},
   "outputs": [],
   "source": [
    "data = np.loadtxt('layer.csv', delimiter=',')\n",
    "# need to make functions that get, R, r_i, P_i, and t_i\n",
    "# r comes from data and has a default bulk.\n",
    "# can speed up by adding some ifs to auto calc it being 0.5:0.5 in bulk\n",
    "\n",
    "def get_r(direction, distance):\n",
    "    \"\"\"return the rate for migration either up or down, depending on the distance from surface\"\"\"\n",
    "    dir_dict = {\"up\": 1, \"down\": 2}\n",
    "    index = distance\n",
    "    if distance >= 0:\n",
    "        E = data[index][dir_dict[direction]]\n",
    "        return nu * np.exp(-E/(kB*T))\n",
    "    else: # assume in bulk, so both directions are equal\n",
    "        return nu * np.exp(-bulk_energy/(kB*T))\n",
    "\n",
    "def get_R(distance):\n",
    "    \"\"\"return the total rate R for a certain distance\"\"\"\n",
    "    return get_r(\"up\", distance) + get_r(\"down\", distance)\n",
    "\n",
    "def get_P(direction, distance):\n",
    "    \"\"\"return the probability of migrating up or down depending on distance\"\"\"\n",
    "    return get_r(direction, distance) / get_R(distance)\n",
    "\n",
    "def get_t(distance, u=random()):\n",
    "    \"\"\"RANDOM PROCESS: get time for migration to occur over, can pass in u if want to keep it consistent\"\"\"\n",
    "    return -np.log(u) / get_R(distance)\n"
   ]
  },
  {
   "cell_type": "code",
   "execution_count": 15,
   "metadata": {},
   "outputs": [
    {
     "name": "stdout",
     "output_type": "stream",
     "text": [
      "0\n",
      "1\n",
      "2\n",
      "3\n",
      "4\n",
      "5\n",
      "6\n",
      "7\n",
      "8\n",
      "9\n",
      "10\n",
      "11\n",
      "12\n",
      "13\n",
      "14\n",
      "15\n",
      "16\n",
      "17\n",
      "18\n",
      "19\n",
      "20\n",
      "21\n",
      "22\n",
      "23\n",
      "24\n",
      "25\n",
      "26\n",
      "27\n",
      "28\n",
      "29\n"
     ]
    }
   ],
   "source": [
    "\n",
    "def kmc_loop(time_length=0.02 * 3600, starting_distance=0, timeout=1e9):\n",
    "    distance = starting_distance\n",
    "    dist_arr = [distance]\n",
    "    time = 0\n",
    "    time_arr = [time]\n",
    "    reached_surface = False\n",
    "    for _ in range(int(timeout)):\n",
    "        if distance >= surface_distance:\n",
    "            #print(\"reached surface\")\n",
    "            reached_surface = True\n",
    "            break\n",
    "        \n",
    "        u = random()\n",
    "        if u < get_P(up, distance):\n",
    "            distance += 1\n",
    "        elif u >= get_P(up, distance):\n",
    "            distance -= 1\n",
    "        else:\n",
    "            print(\"CATCH ME\")\n",
    "        time += get_t(distance)\n",
    "        if time > time_length:\n",
    "            break\n",
    "        time_arr.append(time)\n",
    "        dist_arr.append(distance)\n",
    "    return np.array(time_arr), np.array(dist_arr), reached_surface\n",
    "\n",
    "plt.style.use('seaborn')\n",
    "colour = plt.rcParams['axes.prop_cycle'].by_key()['color']\n",
    "\n",
    "plt.ylabel(\"Layers From Surface\")\n",
    "plt.xlabel('Time / hours')\n",
    "\n",
    "vacancies_destroyed = 0\n",
    "\n",
    "# find a *nice* way to plot the surfaced ones last\n",
    "surfaced_times = []\n",
    "surfaced_distances = []\n",
    "num_runs = 50\n",
    "\n",
    "for i in range(num_runs):\n",
    "    print(i)\n",
    "    time, dist, reached_surface = kmc_loop(10 * 3600, int(uniform(0, -100)))\n",
    "    if reached_surface:\n",
    "        surfaced_times.append(time)\n",
    "        surfaced_distances.append(dist)\n",
    "        vacancies_destroyed += 1\n",
    "    else:\n",
    "        plt.plot(time/3600, dist-surface_distance, color='lightslategray',alpha=0.3)\n",
    "        \n",
    "for time, dist in zip(surfaced_times, surfaced_distances): \n",
    "        plt.plot(time/3600, dist-surface_distance, color=colour[0], alpha=0.75)\n",
    " \n",
    "print(vacancies_destroyed, \"out of\", num_runs)"
   ]
  },
  {
   "cell_type": "code",
   "execution_count": 7,
   "metadata": {},
   "outputs": [
    {
     "data": {
      "text/plain": [
       "(array([23.,  9.,  3.,  2.,  3.,  2.,  0.,  1.,  0.,  1.,  1.,  1.,  0.,\n",
       "         0.,  0.,  0.,  0.,  1.,  0.,  0.,  0.,  0.,  0.,  0.,  1.]),\n",
       " array([0.0130374 , 0.38420082, 0.75536424, 1.12652767, 1.49769109,\n",
       "        1.86885451, 2.24001794, 2.61118136, 2.98234478, 3.35350821,\n",
       "        3.72467163, 4.09583505, 4.46699848, 4.8381619 , 5.20932532,\n",
       "        5.58048875, 5.95165217, 6.32281559, 6.69397902, 7.06514244,\n",
       "        7.43630586, 7.80746929, 8.17863271, 8.54979613, 8.92095956,\n",
       "        9.29212298]),\n",
       " <BarContainer object of 25 artists>)"
      ]
     },
     "execution_count": 7,
     "metadata": {},
     "output_type": "execute_result"
    },
    {
     "data": {
      "image/png": "[encoded data removed]",
      "text/plain": [
       "<Figure size 800x550 with 1 Axes>"
      ]
     },
     "metadata": {},
     "output_type": "display_data"
    }
   ],
   "source": [
    "final_times = []\n",
    "for times in surfaced_times:\n",
    "    final_times.append(times[-1]/3600)\n",
    "plt.hist(final_times, bins=25)"
   ]
  }
 ],
 "metadata": {
  "kernelspec": {
   "display_name": "Python 3",
   "language": "python",
   "name": "python3"
  },
  "language_info": {
   "codemirror_mode": {
    "name": "ipython",
    "version": 3
   },
   "file_extension": ".py",
   "mimetype": "text/x-python",
   "name": "python",
   "nbconvert_exporter": "python",
   "pygments_lexer": "ipython3",
   "version": "3.7.12"
  }
 },
 "nbformat": 4,
 "nbformat_minor": 2
}
